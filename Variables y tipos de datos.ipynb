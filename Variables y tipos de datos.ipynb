{
 "cells": [
  {
   "cell_type": "markdown",
   "id": "1997ceb4",
   "metadata": {},
   "source": [
    "**Variables y tipos de datos**\n"
   ]
  },
  {
   "cell_type": "code",
   "execution_count": 1,
   "id": "fb79665f",
   "metadata": {},
   "outputs": [
    {
     "name": "stdout",
     "output_type": "stream",
     "text": [
      "<class 'int'>\n",
      "<class 'str'>\n",
      "<class 'float'>\n",
      "<class 'bool'>\n"
     ]
    }
   ],
   "source": [
    "#parte 1\n",
    "#declaracion de variables\n",
    "\n",
    "#se desea trabajar con los datos de un empleado\n",
    "#se desea almacenar su numero de empleado, su nombre\n",
    "#su altura en metros y su estado, es decir, si esta activo o no\n",
    "\n",
    "#declara una variable por cada dato\n",
    "#asigna un identificar adecuado y asigna un valor\n",
    "#que defina el tipo de dato adecuado\n",
    "\n",
    "numero_empleado= 0\n",
    "nombre_empleado= \"\"\n",
    "altura_empleado= 0.0\n",
    "estado_actividad_empleado=True\n",
    "\n",
    "\n",
    "#imprime el datatype de cada una de las variables\n",
    "print(type(numero_empleado))\n",
    "print(type(nombre_empleado))\n",
    "print(type(altura_empleado))\n",
    "print(type(estado_actividad_empleado))\n"
   ]
  },
  {
   "cell_type": "code",
   "execution_count": 2,
   "id": "351295da",
   "metadata": {},
   "outputs": [
    {
     "name": "stdout",
     "output_type": "stream",
     "text": [
      "Dame el nombre del empleado: xavier\n",
      "Numero del empleado: 1234\n",
      "Empleado xavier Numero de empleado 1234\n"
     ]
    }
   ],
   "source": [
    "from pickle import NEWTRUE\n",
    "#parte 2\n",
    "\n",
    "#recopila el nombre y el numero del empleado\n",
    "#como prueba captura Juan y \"1234\"\n",
    "\n",
    "#toma en cuenta que la variable numero_empleado es int y lo que\n",
    "#se recopila es str, por lo que es necesario hacer la conversion\n",
    "\n",
    "#puede hacerse en una misma linea, aunque lo recomendable es\n",
    "#usar una variable auxiliar\n",
    "\n",
    "#imprime el nombre y el numero de empleado, en una sola linea\n",
    "\n",
    "#print(\"¿Cual es tu nombre?: \")\n",
    "#nombre_empleado=input()\n",
    "#print(\"Escribe tu numero de empleado: \")\n",
    "#numero_empleado=int=input()\n",
    "\n",
    "nombre_empleado=input(\"Dame el nombre del empleado: \")\n",
    "numero_empleado=input(\"Numero del empleado: \")\n",
    "\n",
    "print(\"Empleado\", nombre_empleado, \"Numero de empleado\", numero_empleado)\n"
   ]
  },
  {
   "cell_type": "code",
   "execution_count": 3,
   "id": "1cea8904",
   "metadata": {},
   "outputs": [
    {
     "name": "stdout",
     "output_type": "stream",
     "text": [
      "Empleado: xavier Numero de empleado: 001234\n"
     ]
    }
   ],
   "source": [
    "#parte 3\n",
    "\n",
    "#modifica la linea de impresion que muestra el nombre y el numero del empleado\n",
    "\n",
    "#utilza f-string y haz que el nombre aparezca tal cual y que el numero\n",
    "#de empleado aparezca en formato de 6 posiciones, rellena con ceros a la izquierda\n",
    "#en caso de que el numero no sea de 5 digitos\n",
    "\n",
    "print(f\"Empleado: {nombre_empleado} Numero de empleado: {numero_empleado:0>6}\")"
   ]
  }
 ],
 "metadata": {
  "kernelspec": {
   "display_name": "Python 3 (ipykernel)",
   "language": "python",
   "name": "python3"
  },
  "language_info": {
   "codemirror_mode": {
    "name": "ipython",
    "version": 3
   },
   "file_extension": ".py",
   "mimetype": "text/x-python",
   "name": "python",
   "nbconvert_exporter": "python",
   "pygments_lexer": "ipython3",
   "version": "3.11.5"
  }
 },
 "nbformat": 4,
 "nbformat_minor": 5
}
